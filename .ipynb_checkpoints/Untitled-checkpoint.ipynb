{
 "cells": [
  {
   "cell_type": "code",
   "execution_count": 35,
   "id": "3519529d",
   "metadata": {},
   "outputs": [],
   "source": [
    "import torch as t\n",
    "from math import sqrt\n",
    "import torch.nn as nn\n",
    "from torchinfo import summary"
   ]
  },
  {
   "cell_type": "code",
   "execution_count": null,
   "id": "61e0b4e3",
   "metadata": {},
   "outputs": [],
   "source": [
    "# REP_SIZE refers to representation size of each word\n",
    "# HIDDEN_SIZE refers to size of query, key and value vectors."
   ]
  },
  {
   "cell_type": "code",
   "execution_count": 57,
   "id": "51c8ee6a",
   "metadata": {},
   "outputs": [],
   "source": [
    "nHEADS = 8\n",
    "REP_SIZE = 512\n",
    "HIDDEN_SIZE = 64"
   ]
  },
  {
   "cell_type": "code",
   "execution_count": 4,
   "id": "d209df88",
   "metadata": {},
   "outputs": [
    {
     "name": "stdout",
     "output_type": "stream",
     "text": [
      "2.1.0.dev20230510+cu118\n"
     ]
    }
   ],
   "source": [
    "print(torch.__version__)"
   ]
  },
  {
   "cell_type": "code",
   "execution_count": 108,
   "id": "ffff40b4",
   "metadata": {},
   "outputs": [],
   "source": [
    "X1 = torch.rand(512)\n",
    "X2 = torch.rand(512)"
   ]
  },
  {
   "cell_type": "code",
   "execution_count": 128,
   "id": "7e4dd0d2",
   "metadata": {},
   "outputs": [],
   "source": [
    "Wq = t.rand(nHEADS, REP_SIZE, HIDDEN_SIZE,requires_grad=True)\n",
    "Wk = t.rand(nHEADS, REP_SIZE, HIDDEN_SIZE,requires_grad=True)\n",
    "Wv = t.rand(nHEADS, REP_SIZE, HIDDEN_SIZE,requires_grad=True)\n",
    "Wo = t.rand(nHEADS*HIDDEN_SIZE,REP_SIZE,requires_grad=True)"
   ]
  },
  {
   "cell_type": "code",
   "execution_count": 110,
   "id": "61cc6b73",
   "metadata": {},
   "outputs": [
    {
     "data": {
      "text/plain": [
       "torch.Size([8, 512, 64])"
      ]
     },
     "execution_count": 110,
     "metadata": {},
     "output_type": "execute_result"
    }
   ],
   "source": [
    "Wq.shape"
   ]
  },
  {
   "cell_type": "code",
   "execution_count": 111,
   "id": "50614e9a",
   "metadata": {},
   "outputs": [],
   "source": [
    "X = t.vstack((X1,X2))"
   ]
  },
  {
   "cell_type": "code",
   "execution_count": 112,
   "id": "a5d018c4",
   "metadata": {},
   "outputs": [],
   "source": [
    "Q = X@Wq\n",
    "K = X@Wk\n",
    "V = X@Wv"
   ]
  },
  {
   "cell_type": "code",
   "execution_count": 113,
   "id": "d47d4ba3",
   "metadata": {},
   "outputs": [
    {
     "data": {
      "text/plain": [
       "torch.Size([8, 2, 64])"
      ]
     },
     "execution_count": 113,
     "metadata": {},
     "output_type": "execute_result"
    }
   ],
   "source": [
    "Q.shape"
   ]
  },
  {
   "cell_type": "code",
   "execution_count": 114,
   "id": "9165c6bc",
   "metadata": {},
   "outputs": [
    {
     "data": {
      "text/plain": [
       "torch.Size([8, 64, 2])"
      ]
     },
     "execution_count": 114,
     "metadata": {},
     "output_type": "execute_result"
    }
   ],
   "source": [
    "K.transpose(1,2).shape"
   ]
  },
  {
   "cell_type": "code",
   "execution_count": 129,
   "id": "50871ccf",
   "metadata": {},
   "outputs": [],
   "source": [
    "Z = t.bmm(Q,K.transpose(1,2))/sqrt(HIDDEN_SIZE)\n",
    "Z = nn.Softmax(dim=2)(Z)\n",
    "Z = t.einsum('ijj->ij',[Z])\n",
    "Z = t.einsum('ij,ijk->ijk',Z,V)\n",
    "Z = torch.reshape(Z,(Z.shape[1],-1))\n",
    "Z = Z@Wo"
   ]
  },
  {
   "cell_type": "code",
   "execution_count": 130,
   "id": "d34eb515",
   "metadata": {},
   "outputs": [
    {
     "data": {
      "text/plain": [
       "torch.Size([2, 512])"
      ]
     },
     "execution_count": 130,
     "metadata": {},
     "output_type": "execute_result"
    }
   ],
   "source": [
    "Z.shape"
   ]
  },
  {
   "cell_type": "code",
   "execution_count": 125,
   "id": "7069541a",
   "metadata": {},
   "outputs": [],
   "source": []
  }
 ],
 "metadata": {
  "kernelspec": {
   "display_name": "Python 3 (ipykernel)",
   "language": "python",
   "name": "python3"
  },
  "language_info": {
   "codemirror_mode": {
    "name": "ipython",
    "version": 3
   },
   "file_extension": ".py",
   "mimetype": "text/x-python",
   "name": "python",
   "nbconvert_exporter": "python",
   "pygments_lexer": "ipython3",
   "version": "3.11.3"
  }
 },
 "nbformat": 4,
 "nbformat_minor": 5
}
