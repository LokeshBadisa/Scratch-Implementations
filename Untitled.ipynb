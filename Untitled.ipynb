{
 "cells": [
  {
   "cell_type": "code",
   "execution_count": 1,
   "id": "3519529d",
   "metadata": {},
   "outputs": [],
   "source": [
    "import torch as t\n",
    "from math import sqrt\n",
    "import torch.nn as nn\n",
    "from torchinfo import summary"
   ]
  },
  {
   "cell_type": "code",
   "execution_count": 2,
   "id": "61e0b4e3",
   "metadata": {},
   "outputs": [],
   "source": [
    "# EMBED_SIZE refers to representation size of each word\n",
    "# HIDDEN_SIZE refers to size of query, key and value vectors."
   ]
  },
  {
   "cell_type": "code",
   "execution_count": 3,
   "id": "51c8ee6a",
   "metadata": {},
   "outputs": [],
   "source": [
    "nHEADS = 8\n",
    "EMBED_SIZE = 512\n",
    "HIDDEN_SIZE = 64"
   ]
  },
  {
   "cell_type": "code",
   "execution_count": 4,
   "id": "d209df88",
   "metadata": {},
   "outputs": [
    {
     "name": "stdout",
     "output_type": "stream",
     "text": [
      "2.1.0.dev20230510+cu118\n"
     ]
    }
   ],
   "source": [
    "print(t.__version__)"
   ]
  },
  {
   "cell_type": "code",
   "execution_count": 5,
   "id": "ffff40b4",
   "metadata": {},
   "outputs": [],
   "source": [
    "X1 = t.rand(512)\n",
    "X2 = t.rand(512)"
   ]
  },
  {
   "cell_type": "code",
   "execution_count": 6,
   "id": "7e4dd0d2",
   "metadata": {},
   "outputs": [],
   "source": [
    "Wq = t.rand(nHEADS, EMBED_SIZE, HIDDEN_SIZE,requires_grad=True)\n",
    "Wk = t.rand(nHEADS, EMBED_SIZE, HIDDEN_SIZE,requires_grad=True)\n",
    "Wv = t.rand(nHEADS, EMBED_SIZE, HIDDEN_SIZE,requires_grad=True)\n",
    "Wo = t.rand(nHEADS*HIDDEN_SIZE, EMBED_SIZE, requires_grad=True)"
   ]
  },
  {
   "cell_type": "code",
   "execution_count": 7,
   "id": "61cc6b73",
   "metadata": {},
   "outputs": [
    {
     "data": {
      "text/plain": [
       "torch.Size([8, 512, 64])"
      ]
     },
     "execution_count": 7,
     "metadata": {},
     "output_type": "execute_result"
    }
   ],
   "source": [
    "Wq.shape"
   ]
  },
  {
   "cell_type": "code",
   "execution_count": 8,
   "id": "50614e9a",
   "metadata": {},
   "outputs": [],
   "source": [
    "X = t.vstack((X1,X2))"
   ]
  },
  {
   "cell_type": "code",
   "execution_count": 9,
   "id": "a5d018c4",
   "metadata": {},
   "outputs": [],
   "source": [
    "Q = X@Wq\n",
    "K = X@Wk\n",
    "V = X@Wv"
   ]
  },
  {
   "cell_type": "code",
   "execution_count": 10,
   "id": "d47d4ba3",
   "metadata": {},
   "outputs": [
    {
     "data": {
      "text/plain": [
       "torch.Size([8, 2, 64])"
      ]
     },
     "execution_count": 10,
     "metadata": {},
     "output_type": "execute_result"
    }
   ],
   "source": [
    "Q.shape"
   ]
  },
  {
   "cell_type": "code",
   "execution_count": 11,
   "id": "9165c6bc",
   "metadata": {},
   "outputs": [
    {
     "data": {
      "text/plain": [
       "torch.Size([8, 64, 2])"
      ]
     },
     "execution_count": 11,
     "metadata": {},
     "output_type": "execute_result"
    }
   ],
   "source": [
    "K.transpose(1,2).shape"
   ]
  },
  {
   "cell_type": "code",
   "execution_count": 12,
   "id": "50871ccf",
   "metadata": {},
   "outputs": [
    {
     "data": {
      "text/plain": [
       "torch.Size([2, 512])"
      ]
     },
     "execution_count": 12,
     "metadata": {},
     "output_type": "execute_result"
    }
   ],
   "source": [
    "X.shape"
   ]
  },
  {
   "cell_type": "code",
   "execution_count": 14,
   "id": "7069541a",
   "metadata": {},
   "outputs": [],
   "source": [
    "class Encoder(nn.Module):\n",
    "    def __init__(self):\n",
    "        super(Encoder, self).__init__()\n",
    "        self.Wq = nn.Parameter(t.rand(nHEADS, EMBED_SIZE, HIDDEN_SIZE))\n",
    "        self.Wk = nn.Parameter(t.rand(nHEADS, EMBED_SIZE, HIDDEN_SIZE))\n",
    "        self.Wv = nn.Parameter(t.rand(nHEADS, EMBED_SIZE, HIDDEN_SIZE))\n",
    "        self.Wo = nn.Parameter(t.rand(nHEADS*HIDDEN_SIZE, EMBED_SIZE))\n",
    "        self.linear1 = nn.Linear(512,2048)\n",
    "        self.relu1 = nn.ReLU()\n",
    "        self.linear2 = nn.Linear(2048,512)\n",
    "        self.relu2 = nn.ReLU()\n",
    "        \n",
    "    def forward(self,X):\n",
    "        Q = X@self.Wq\n",
    "        K = X@self.Wk\n",
    "        V = X@self.Wv\n",
    "        Z = t.bmm(Q,K.transpose(1,2))/sqrt(HIDDEN_SIZE)\n",
    "        Z = nn.Softmax(dim=2)(Z)\n",
    "        Z = t.einsum('ijj->ij',[Z])\n",
    "        Z = t.einsum('ij,ijk->ijk',Z,V)\n",
    "        Z = t.reshape(Z,(Z.shape[1],-1))\n",
    "        Z = Z@self.Wo\n",
    "        Z = nn.LayerNorm(Z.shape)(Z+X)\n",
    "        residual = Z\n",
    "        Z = self.linear1(Z)\n",
    "        Z = self.relu1(Z)\n",
    "        Z = self.linear2(Z)\n",
    "        Z = self.relu2(Z)\n",
    "        Z = nn.LayerNorm(Z.shape)(Z+residual)\n",
    "        return Z"
   ]
  },
  {
   "cell_type": "code",
   "execution_count": 15,
   "id": "e54bc938",
   "metadata": {},
   "outputs": [],
   "source": [
    "model1 = Encoder()"
   ]
  }
 ],
 "metadata": {
  "kernelspec": {
   "display_name": "Python 3 (ipykernel)",
   "language": "python",
   "name": "python3"
  },
  "language_info": {
   "codemirror_mode": {
    "name": "ipython",
    "version": 3
   },
   "file_extension": ".py",
   "mimetype": "text/x-python",
   "name": "python",
   "nbconvert_exporter": "python",
   "pygments_lexer": "ipython3",
   "version": "3.11.3"
  }
 },
 "nbformat": 4,
 "nbformat_minor": 5
}
